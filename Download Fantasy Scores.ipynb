{
 "cells": [
  {
   "cell_type": "code",
   "execution_count": 1,
   "metadata": {},
   "outputs": [],
   "source": [
    "# These are the python libraries we will use. \n",
    "# pandas is our python version of excel\n",
    "# requests_html is our python version of a web browser (like chrome, or edge, or firefox) that we're going to \n",
    "# use to open the websites we want to get data from\n",
    "import pandas as pd"
   ]
  },
  {
   "cell_type": "code",
   "execution_count": 2,
   "metadata": {},
   "outputs": [],
   "source": [
    "url = 'https://fantasy.premierleague.com/statistics'"
   ]
  },
  {
   "cell_type": "code",
   "execution_count": 3,
   "metadata": {},
   "outputs": [],
   "source": [
    "from selenium import webdriver\n",
    "driver = webdriver.Chrome()"
   ]
  },
  {
   "cell_type": "code",
   "execution_count": 4,
   "metadata": {},
   "outputs": [],
   "source": [
    "driver.get(url)"
   ]
  },
  {
   "cell_type": "code",
   "execution_count": 5,
   "metadata": {},
   "outputs": [],
   "source": [
    "el = driver.find_element_by_id('sort')"
   ]
  },
  {
   "cell_type": "code",
   "execution_count": 6,
   "metadata": {},
   "outputs": [],
   "source": [
    "for e in driver.find_elements_by_tag_name('button'):\n",
    "    if e.text == 'Next':\n",
    "        next_button = e\n",
    "    if e.text == 'Previous':\n",
    "        previous_button = e"
   ]
  },
  {
   "cell_type": "code",
   "execution_count": 10,
   "metadata": {},
   "outputs": [],
   "source": [
    "next_button.click()"
   ]
  },
  {
   "cell_type": "code",
   "execution_count": 30,
   "metadata": {},
   "outputs": [],
   "source": [
    "el.find_elements_by_tag_name('option')[2].click()"
   ]
  },
  {
   "cell_type": "code",
   "execution_count": null,
   "metadata": {},
   "outputs": [
    {
     "name": "stdout",
     "output_type": "stream",
     "text": [
      "Total points\n",
      "Round points\n",
      "Price\n"
     ]
    }
   ],
   "source": [
    "data_tables = []\n",
    "for option in el.find_elements_by_tag_name('option'):\n",
    "    print(option.text)\n",
    "    option.click()\n",
    "    \n",
    "    data_table = []\n",
    "    \n",
    "    for i in range(18-1):\n",
    "        table = driver.find_element_by_tag_name('table')\n",
    "        partial_data_table = pd.read_html(table.get_attribute('outerHTML'))[0]\n",
    "        data_table.append(partial_data_table)\n",
    "        next_button.click()\n",
    "\n",
    "    data_table = pd.concat(data_table)\n",
    "    data_table.set_index('Player', inplace=True)\n",
    "    data_table.columns = [option.text if c == '**' else c for c in data_table.columns ]\n",
    "    data_tables.append(data_table)\n",
    "    "
   ]
  },
  {
   "cell_type": "code",
   "execution_count": 49,
   "metadata": {},
   "outputs": [],
   "source": [
    "combined_table = pd.concat(data_tables, axis=1)"
   ]
  },
  {
   "cell_type": "code",
   "execution_count": 50,
   "metadata": {},
   "outputs": [],
   "source": [
    "combined_table.sort_index(axis='columns', inplace=True)"
   ]
  },
  {
   "cell_type": "code",
   "execution_count": 59,
   "metadata": {},
   "outputs": [],
   "source": [
    "parsed_names = combined_table.index.to_series().apply(lambda x: pd.Series([x[:-6], x[-6:-3], x[-3:]], index=['Player Name', 'Team', 'Position']))"
   ]
  },
  {
   "cell_type": "code",
   "execution_count": 51,
   "metadata": {},
   "outputs": [],
   "source": [
    "combined_table = combined_table.loc[:,~combined_table.columns.duplicated()]"
   ]
  },
  {
   "cell_type": "code",
   "execution_count": 62,
   "metadata": {},
   "outputs": [],
   "source": [
    "combined_table = pd.concat([parsed_names, combined_table], axis=1)"
   ]
  },
  {
   "cell_type": "code",
   "execution_count": 63,
   "metadata": {},
   "outputs": [],
   "source": [
    "combined_table.to_csv('Fantasy_PL_data.csv')"
   ]
  }
 ],
 "metadata": {
  "kernelspec": {
   "display_name": "Python 3",
   "language": "python",
   "name": "python3"
  },
  "language_info": {
   "codemirror_mode": {
    "name": "ipython",
    "version": 3
   },
   "file_extension": ".py",
   "mimetype": "text/x-python",
   "name": "python",
   "nbconvert_exporter": "python",
   "pygments_lexer": "ipython3",
   "version": "3.6.4"
  }
 },
 "nbformat": 4,
 "nbformat_minor": 2
}
