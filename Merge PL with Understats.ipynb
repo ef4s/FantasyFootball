{
 "cells": [
  {
   "cell_type": "code",
   "execution_count": 1,
   "metadata": {},
   "outputs": [],
   "source": [
    "import pandas as pd"
   ]
  },
  {
   "cell_type": "code",
   "execution_count": 3,
   "metadata": {},
   "outputs": [],
   "source": [
    "pl = pd.read_csv('Fantasy_PL_data.csv')"
   ]
  },
  {
   "cell_type": "code",
   "execution_count": 7,
   "metadata": {},
   "outputs": [],
   "source": [
    "pl['Team'].to_clipboard()"
   ]
  },
  {
   "cell_type": "code",
   "execution_count": 10,
   "metadata": {},
   "outputs": [],
   "source": [
    "team_mapping = {'ARS':'Arsenal', 'AVL':'Aston Villa', 'BHA':'Brighton', 'BOU':'Bournemouth', 'BUR':'Burnley', 'CHE':'Chelsea', 'CRY':'Crystal Palace', 'EVE':'Everton', 'LEI':'Leicester', 'LIV':'Liverpool', 'MCI':'Manchester City', 'MUN':'Manchester United', 'NEW':'Newcastle United', 'NOR':'Norwich City', 'SHU':'Sheffield United', 'SOU':'Southampton', 'TOT':'Tottenham', 'WAT':'Watford', 'WHU':'West Ham', 'WOL':'Wolverhampton Wanderers'\n",
    "               } "
   ]
  },
  {
   "cell_type": "code",
   "execution_count": 13,
   "metadata": {},
   "outputs": [],
   "source": [
    "pl['Team Name'] = pl.Team.map(team_mapping)"
   ]
  },
  {
   "cell_type": "code",
   "execution_count": 51,
   "metadata": {},
   "outputs": [
    {
     "name": "stdout",
     "output_type": "stream",
     "text": [
      "merged Arsenal\n",
      "No data for Aston Villa\n",
      "merged Aston Villa\n",
      "merged Brighton\n",
      "merged Bournemouth\n",
      "merged Burnley\n",
      "merged Chelsea\n",
      "No data for Crystal Palace\n",
      "merged Crystal Palace\n",
      "merged Everton\n",
      "merged Leicester\n",
      "merged Liverpool\n",
      "No data for Manchester City\n",
      "merged Manchester City\n",
      "No data for Manchester United\n",
      "merged Manchester United\n",
      "No data for Newcastle United\n",
      "merged Newcastle United\n",
      "No data for Norwich City\n",
      "merged Norwich City\n",
      "No data for Sheffield United\n",
      "merged Sheffield United\n",
      "merged Southampton\n",
      "merged Tottenham\n",
      "merged Watford\n",
      "No data for West Ham\n",
      "merged West Ham\n",
      "No data for Wolverhampton Wanderers\n",
      "merged Wolverhampton Wanderers\n"
     ]
    }
   ],
   "source": [
    "for team_code, team in list(team_mapping.items()):\n",
    "    try:\n",
    "        team_stats = pd.read_csv(f'teams\\{team}.csv')\n",
    "    except FileNotFoundError:\n",
    "        print(f'No data for {team}')\n",
    "    finally:\n",
    "        team_stats['Last Name'] = team_stats.Player.apply(lambda x: x.split(' ')[-1])\n",
    "        merged = pd.merge(left=pl[pl.Team==team_code], right=team_stats, left_on='Player Name', right_on='Last Name')\n",
    "        merged.to_csv(f'teams\\merged_{team}.csv')\n",
    "        print(f'merged {team}')"
   ]
  },
  {
   "cell_type": "code",
   "execution_count": null,
   "metadata": {},
   "outputs": [],
   "source": []
  }
 ],
 "metadata": {
  "kernelspec": {
   "display_name": "Python 3",
   "language": "python",
   "name": "python3"
  },
  "language_info": {
   "codemirror_mode": {
    "name": "ipython",
    "version": 3
   },
   "file_extension": ".py",
   "mimetype": "text/x-python",
   "name": "python",
   "nbconvert_exporter": "python",
   "pygments_lexer": "ipython3",
   "version": "3.6.4"
  }
 },
 "nbformat": 4,
 "nbformat_minor": 2
}
