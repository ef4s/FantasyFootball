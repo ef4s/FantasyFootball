{
 "cells": [
  {
   "cell_type": "code",
   "execution_count": null,
   "metadata": {},
   "outputs": [],
   "source": [
    "# before you run this code you should run:\n",
    "# pip install pandas\n",
    "# pip install requests-html"
   ]
  },
  {
   "cell_type": "code",
   "execution_count": 3,
   "metadata": {},
   "outputs": [],
   "source": [
    "# These are the python libraries we will use. \n",
    "# pandas is our python version of excel\n",
    "# requests_html is our python version of a web browser (like chrome, or edge, or firefox) that we're going to \n",
    "# use to open the websites we want to get data from\n",
    "import pandas as pd\n",
    "from selenium.webdriver.common.by import By"
   ]
  },
  {
   "cell_type": "code",
   "execution_count": null,
   "metadata": {},
   "outputs": [],
   "source": [
    "# This is a list of teams in this seasons EPL. I didn't write this out by hand BTW!\n",
    "teams = ['Manchester City','Liverpool','Chelsea','Tottenham','Arsenal','Manchester United','Wolverhampton Wanderers',\n",
    "         'Everton','Leicester','West Ham','Watford','Crystal Palace','Newcastle United','Bournemouth','Burnley','Southampton','Brighton','Cardiff','Fulham','Huddersfield']"
   ]
  },
  {
   "cell_type": "code",
   "execution_count": 1,
   "metadata": {},
   "outputs": [],
   "source": [
    "team = 'Arsenal'"
   ]
  },
  {
   "cell_type": "code",
   "execution_count": 4,
   "metadata": {},
   "outputs": [
    {
     "name": "stdout",
     "output_type": "stream",
     "text": [
      "https://understat.com/team/Arsenal/2019\n"
     ]
    }
   ],
   "source": [
    "url = f'https://understat.com/team/{team.replace(\" \",\"_\")}/201'\n",
    "print(url)\n",
    "# We need to open the web page (this is called a 'get' request), then we need to render it, and then we can read the html\n",
    "session = HTMLSession()\n",
    "request = session.get(url)\n",
    "request.html.render()\n",
    "# inside the html there are some tables of data. \n",
    "# We want the second table. (in most programming languages, the first item in a list is known as the 0th item, so the second item is the 1st)\n",
    "# in the code \"request.html.find('table')\" will find us all of the tables of data in this website\n",
    "tables = request.html.find('table')\n",
    "# the [1] is how we get the second element of the list \n",
    "player_table = tables[1]"
   ]
  },
  {
   "cell_type": "code",
   "execution_count": 88,
   "metadata": {},
   "outputs": [
    {
     "ename": "TypeError",
     "evalue": "'Element' object is not subscriptable",
     "output_type": "error",
     "traceback": [
      "\u001b[1;31m---------------------------------------------------------------------------\u001b[0m",
      "\u001b[1;31mTypeError\u001b[0m                                 Traceback (most recent call last)",
      "\u001b[1;32m<ipython-input-88-9da65920a41b>\u001b[0m in \u001b[0;36m<module>\u001b[1;34m()\u001b[0m\n\u001b[1;32m----> 1\u001b[1;33m \u001b[1;32mfor\u001b[0m \u001b[0mrow\u001b[0m \u001b[1;32min\u001b[0m \u001b[0mplayer_table\u001b[0m\u001b[1;33m[\u001b[0m\u001b[1;34m'tr'\u001b[0m\u001b[1;33m]\u001b[0m\u001b[1;33m:\u001b[0m\u001b[1;33m\u001b[0m\u001b[0m\n\u001b[0m\u001b[0;32m      2\u001b[0m     \u001b[0mprint\u001b[0m\u001b[1;33m(\u001b[0m\u001b[0mrow\u001b[0m\u001b[1;33m)\u001b[0m\u001b[1;33m\u001b[0m\u001b[0m\n",
      "\u001b[1;31mTypeError\u001b[0m: 'Element' object is not subscriptable"
     ]
    }
   ],
   "source": [
    "for row in player_table['tr']:\n",
    "    print(row)"
   ]
  },
  {
   "cell_type": "code",
   "execution_count": 26,
   "metadata": {},
   "outputs": [],
   "source": [
    "player_url = 'https://understat.com/' + list(player_table.links)[1]"
   ]
  },
  {
   "cell_type": "code",
   "execution_count": 14,
   "metadata": {},
   "outputs": [],
   "source": [
    "from selenium import webdriver\n",
    "driver = webdriver.Chrome()"
   ]
  },
  {
   "cell_type": "code",
   "execution_count": 27,
   "metadata": {},
   "outputs": [],
   "source": [
    "driver.get(player_url)"
   ]
  },
  {
   "cell_type": "code",
   "execution_count": 29,
   "metadata": {},
   "outputs": [],
   "source": [
    "el = driver.find_element_by_id('player-groups')"
   ]
  },
  {
   "cell_type": "code",
   "execution_count": 83,
   "metadata": {},
   "outputs": [
    {
     "name": "stdout",
     "output_type": "stream",
     "text": [
      "Season\n",
      "   №     Season               Team  Apps   Min   G   A  Sh90  KP90  \\\n",
      "0  1  2019/2020            Arsenal     1    86   0   0  1.05  1.05   \n",
      "1  2  2018/2019            Arsenal    25  1647   6   4  2.68  1.58   \n",
      "2  3  2017/2018  Manchester United    15   936   1   5  1.44  2.69   \n",
      "3  4  2017/2018            Arsenal    11   799   2   4  2.37  1.80   \n",
      "4  5  2016/2017  Manchester United    24  1347   4   1  2.14  1.94   \n",
      "5  6  2015/2016  Borussia Dortmund    31  2578  11  15  2.83  2.90   \n",
      "6  7  2014/2015  Borussia Dortmund    28  1919   3   4  3.24  2.11   \n",
      "\n",
      "           xG          xA  xG90  xA90  \n",
      "0   0.10+0.10   0.15+0.15  0.10  0.15  \n",
      "1   5.34-0.66   6.49+2.49  0.29  0.35  \n",
      "2   0.89-0.11   3.40-1.60  0.09  0.33  \n",
      "3   1.59-0.41   3.37-0.63  0.18  0.38  \n",
      "4   2.71-1.29   3.52+2.52  0.18  0.24  \n",
      "5  11.49+0.49  15.88+0.88  0.40  0.55  \n",
      "6   5.74+2.74   6.63+2.63  0.27  0.31  \n",
      "Position\n",
      "    № Position  Apps   Min   G   A  Sh90  KP90         xG          xA  xG90  \\\n",
      "0   1      AMR    33  2750  10  10  2.91  2.36  9.11-0.89  12.42+2.42  0.30   \n",
      "1   2      AML    13  1084   2   6  2.91  2.24  2.41+0.41   5.80-0.20  0.20   \n",
      "2   3       MC     3   259   0   0  1.74  1.04  0.23+0.23   0.75+0.75  0.08   \n",
      "3   4      Sub    31   698   2   0  3.48  2.32  2.44+0.44   1.98+1.98  0.31   \n",
      "4   5       MR     5   434   1   1  3.11  1.24  1.52+0.52   1.10+0.10  0.32   \n",
      "5   6      FWR    21  1762   6   2  2.20  2.45  5.37-0.63   8.15+6.15  0.27   \n",
      "6   7      FWL     9   703   1   4  1.41  2.18  2.20+1.20   3.52-0.48  0.28   \n",
      "7   8      AMC    17  1355   2   9  2.26  2.32  3.00+1.00   4.84-4.16  0.20   \n",
      "8   9       ML     2   180   3   1  4.00  2.50  1.48-1.52   0.88-0.12  0.74   \n",
      "9  10       FW     1    87   0   0  1.03  0.00  0.08+0.08        0.00  0.08   \n",
      "\n",
      "   xA90  \n",
      "0  0.41  \n",
      "1  0.48  \n",
      "2  0.26  \n",
      "3  0.25  \n",
      "4  0.23  \n",
      "5  0.42  \n",
      "6  0.45  \n",
      "7  0.32  \n",
      "8  0.44  \n",
      "9  0.00  \n",
      "Situation\n",
      "   №        Situation   Sh   G   KP   A          xG          xA  xG90  xA90  \\\n",
      "0  1        Open play  235  25  191  25  26.81+1.81  34.30+9.30  0.26  0.33   \n",
      "1  2      From corner   24   2   35   6   0.61-1.39   3.41-2.59  0.01  0.03   \n",
      "2  3        Set piece    4   0    4   2   0.12+0.12   1.74-0.26  0.00  0.02   \n",
      "3  4  Direct Freekick    5   0    0   0   0.31+0.31        0.00  0.00  0.00   \n",
      "\n",
      "   xG/Sh  xA/KP  \n",
      "0   0.11   0.18  \n",
      "1   0.03   0.10  \n",
      "2   0.03   0.43  \n",
      "3   0.06   0.00  \n",
      "Shot zones\n",
      "   №    Shot zones   Sh   G   KP   A          xG          xA  xG/Sh  xA/KP\n",
      "0  1    Out of box  129   5   63   0   3.91-1.09   2.37+2.37   0.03   0.04\n",
      "1  2  Penalty area  125  17  146  28  17.07+0.07  28.85+0.85   0.14   0.20\n",
      "2  3  Six-yard box   14   5   21   5   6.87+1.87   8.22+3.22   0.49   0.39\n",
      "Shot types\n",
      "   №       Shot types   Sh   G   KP   A          xG          xA  xG/Sh  xA/KP\n",
      "0  1       Right foot  173  14  138  18  15.68+1.68  24.79+6.79   0.09   0.18\n",
      "1  2        Left foot   85  10   51   8   9.58-0.42   9.12+1.12   0.11   0.18\n",
      "2  3             Head   10   3   40   7   2.58-0.42   4.89-2.11   0.26   0.12\n",
      "3  4  Other body part    0   0    1   0        0.00   0.64+0.64   0.00   0.64\n"
     ]
    }
   ],
   "source": [
    "\n",
    "for i in range(1, 6):\n",
    "    cl = driver.find_element(By.XPATH, f\"//label[@for='groups-field-{i}']\")\n",
    "    cl.click()\n",
    "    print(cl.text)\n",
    "    table = el.find_element_by_tag_name('table')\n",
    "    data_table = pd.read_html(table.get_attribute('outerHTML'))[0]\n",
    "    data_table.to_csv('')"
   ]
  },
  {
   "cell_type": "code",
   "execution_count": 79,
   "metadata": {},
   "outputs": [
    {
     "data": {
      "text/plain": [
       "[]"
      ]
     },
     "execution_count": 79,
     "metadata": {},
     "output_type": "execute_result"
    }
   ],
   "source": [
    "cl"
   ]
  },
  {
   "cell_type": "code",
   "execution_count": 77,
   "metadata": {},
   "outputs": [],
   "source": [
    "cl.click()"
   ]
  },
  {
   "cell_type": "code",
   "execution_count": 75,
   "metadata": {},
   "outputs": [
    {
     "name": "stdout",
     "output_type": "stream",
     "text": [
      "https://understat.com/team/Manchester_City/2018\n",
      "Manchester City done!\n",
      "https://understat.com/team/Liverpool/2018\n",
      "Liverpool done!\n",
      "https://understat.com/team/Chelsea/2018\n",
      "Chelsea done!\n",
      "https://understat.com/team/Tottenham/2018\n",
      "Tottenham done!\n",
      "https://understat.com/team/Arsenal/2018\n",
      "Arsenal done!\n",
      "https://understat.com/team/Manchester_United/2018\n",
      "Manchester United done!\n",
      "https://understat.com/team/Wolverhampton_Wanderers/2018\n",
      "Wolverhampton Wanderers done!\n",
      "https://understat.com/team/Everton/2018\n",
      "Everton done!\n",
      "https://understat.com/team/Leicester/2018\n",
      "Leicester done!\n",
      "https://understat.com/team/West_Ham/2018\n",
      "West Ham done!\n",
      "https://understat.com/team/Watford/2018\n",
      "Watford done!\n",
      "https://understat.com/team/Crystal_Palace/2018\n",
      "Crystal Palace done!\n",
      "https://understat.com/team/Newcastle_United/2018\n",
      "Newcastle United done!\n",
      "https://understat.com/team/Bournemouth/2018\n",
      "Bournemouth done!\n",
      "https://understat.com/team/Burnley/2018\n",
      "Burnley done!\n",
      "https://understat.com/team/Southampton/2018\n",
      "Southampton done!\n",
      "https://understat.com/team/Brighton/2018\n",
      "Brighton done!\n",
      "https://understat.com/team/Cardiff/2018\n",
      "Cardiff done!\n",
      "https://understat.com/team/Fulham/2018\n",
      "Fulham done!\n",
      "https://understat.com/team/Huddersfield/2018\n",
      "Huddersfield done!\n"
     ]
    }
   ],
   "source": [
    "for team in teams:\n",
    "    # This url is the link to the website with the data\n",
    "    url = f'https://understat.com/team/{team.replace(\" \",\"_\")}/2018'\n",
    "    print(url)\n",
    "    # We need to open the web page (this is called a 'get' request), then we need to render it, and then we can read the html\n",
    "    session = HTMLSession()\n",
    "    request = session.get(url)\n",
    "    request.html.render()\n",
    "    # inside the html there are some tables of data. \n",
    "    # We want the second table. (in most programming languages, the first item in a list is known as the 0th item, so the second item is the 1st)\n",
    "    # in the code \"request.html.find('table')\" will find us all of the tables of data in this website\n",
    "    tables = request.html.find('table')\n",
    "    # the [1] is how we get the second element of the list \n",
    "    player_table = tables[1]\n",
    "    \n",
    "    players = \n",
    "    for player in players:\n",
    "        \n",
    "    # Now we convert the html table to a pandas DataTable, which we then save as csv\n",
    "    stats = pd.read_html(player_table.html, header=0)[0]\n",
    "    stats.to_csv(f'{team.replace(\" \",\"_\")}.csv')\n",
    "    print(f'{team} done!')"
   ]
  }
 ],
 "metadata": {
  "kernelspec": {
   "display_name": "Python 3",
   "language": "python",
   "name": "python3"
  },
  "language_info": {
   "codemirror_mode": {
    "name": "ipython",
    "version": 3
   },
   "file_extension": ".py",
   "mimetype": "text/x-python",
   "name": "python",
   "nbconvert_exporter": "python",
   "pygments_lexer": "ipython3",
   "version": "3.6.4"
  }
 },
 "nbformat": 4,
 "nbformat_minor": 2
}
