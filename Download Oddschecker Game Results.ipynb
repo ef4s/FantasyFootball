{
 "cells": [
  {
   "cell_type": "code",
   "execution_count": 1,
   "metadata": {},
   "outputs": [],
   "source": [
    "# These are the python libraries we will use. \n",
    "# pandas is our python version of excel\n",
    "# requests_html is our python version of a web browser (like chrome, or edge, or firefox) that we're going to \n",
    "# use to open the websites we want to get data from\n",
    "import pandas as pd\n",
    "import numpy as np\n",
    "from requests_html import HTMLSession\n",
    "from datetime import datetime"
   ]
  },
  {
   "cell_type": "code",
   "execution_count": 2,
   "metadata": {},
   "outputs": [],
   "source": [
    "url = f'https://www.oddschecker.com/football/english/premier-league/winner'"
   ]
  },
  {
   "cell_type": "code",
   "execution_count": 3,
   "metadata": {},
   "outputs": [],
   "source": [
    "session = HTMLSession()\n",
    "request = session.get(url)"
   ]
  },
  {
   "cell_type": "code",
   "execution_count": 4,
   "metadata": {},
   "outputs": [],
   "source": [
    "# inside the html there are some tables of data. \n",
    "# We want the second table. (in most programming languages, the first item in a list is known as the 0th item, so the second item is the 1st)\n",
    "# in the code \"request.html.find('table')\" will find us all of the tables of data in this website\n",
    "tables = request.html.find('table') #<tbody id=t1>\n",
    "# the [1] is how we get the second element of the list \n",
    "league_winner_table = tables[1]\n",
    "# Now we convert the html table to a pandas DataTable, which we then save as csv\n",
    "stats = pd.read_html(league_winner_table.html, header=0)[0]\n",
    "# The first few rows are all just rubbish about betting special offers and stuff, so we drop them\n",
    "stats = stats.iloc[6:]\n",
    "stats.to_csv(f'league_odds_{datetime.today().strftime(\"%Y%m%d\")}.csv')"
   ]
  },
  {
   "cell_type": "code",
   "execution_count": 5,
   "metadata": {},
   "outputs": [],
   "source": [
    "def parse_odds(odds):\n",
    "    if type(odds)==str:        \n",
    "        if '/' in odds:\n",
    "            a, b = odds.split('/')\n",
    "            a = int(a)\n",
    "            b = int(b)\n",
    "        else:\n",
    "            a = int(odds)\n",
    "            b = 1\n",
    "        return b / (a + b)\n",
    "    return np.nan"
   ]
  },
  {
   "cell_type": "code",
   "execution_count": 6,
   "metadata": {},
   "outputs": [],
   "source": [
    "stats.set_index('Sign Up Offers', inplace=True)"
   ]
  },
  {
   "cell_type": "code",
   "execution_count": 7,
   "metadata": {},
   "outputs": [],
   "source": [
    "stats = stats.applymap(parse_odds)\n"
   ]
  },
  {
   "cell_type": "code",
   "execution_count": 9,
   "metadata": {},
   "outputs": [
    {
     "data": {
      "text/plain": [
       "Sign Up Offers\n",
       "Man City          66.67%\n",
       "Liverpool         25.00%\n",
       "Tottenham          4.35%\n",
       "Man Utd            2.44%\n",
       "Arsenal            2.13%\n",
       "Chelsea            1.49%\n",
       "Everton            0.26%\n",
       "Leicester          0.15%\n",
       "Wolves             0.14%\n",
       "West Ham           0.10%\n",
       "Aston Villa        0.05%\n",
       "Newcastle          0.04%\n",
       "Crystal Palace     0.04%\n",
       "Watford            0.04%\n",
       "Burnley            0.04%\n",
       "Brighton           0.04%\n",
       "Southampton        0.04%\n",
       "Bournemouth        0.04%\n",
       "Sheffield Utd      0.04%\n",
       "Norwich            0.04%\n",
       "dtype: object"
      ]
     },
     "execution_count": 9,
     "metadata": {},
     "output_type": "execute_result"
    }
   ],
   "source": [
    "stats.min(axis='columns').apply(lambda x: f'{x:0.2%}')"
   ]
  }
 ],
 "metadata": {
  "kernelspec": {
   "display_name": "Python 3",
   "language": "python",
   "name": "python3"
  },
  "language_info": {
   "codemirror_mode": {
    "name": "ipython",
    "version": 3
   },
   "file_extension": ".py",
   "mimetype": "text/x-python",
   "name": "python",
   "nbconvert_exporter": "python",
   "pygments_lexer": "ipython3",
   "version": "3.6.4"
  }
 },
 "nbformat": 4,
 "nbformat_minor": 2
}
