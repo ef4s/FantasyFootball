{
 "cells": [
  {
   "cell_type": "code",
   "execution_count": null,
   "metadata": {},
   "outputs": [],
   "source": [
    "# before you run this code you should run:\n",
    "# pip install pandas\n",
    "# pip install requests-html"
   ]
  },
  {
   "cell_type": "code",
   "execution_count": 31,
   "metadata": {},
   "outputs": [],
   "source": [
    "# These are the python libraries we will use. \n",
    "# pandas is our python version of excel\n",
    "# requests_html is our python version of a web browser (like chrome, or edge, or firefox) that we're going to \n",
    "# use to open the websites we want to get data from\n",
    "import pandas as pd\n",
    "from requests_html import HTMLSession"
   ]
  },
  {
   "cell_type": "code",
   "execution_count": null,
   "metadata": {},
   "outputs": [],
   "source": [
    "# This is a list of teams in this seasons EPL. I didn't write this out by hand BTW!\n",
    "teams = ['Manchester City','Liverpool','Chelsea','Tottenham','Arsenal','Manchester United','Wolverhampton Wanderers',\n",
    "         'Everton','Leicester','West Ham','Watford','Crystal Palace','Newcastle United','Bournemouth','Burnley','Southampton','Brighton','Cardiff','Fulham','Huddersfield']"
   ]
  },
  {
   "cell_type": "code",
   "execution_count": 75,
   "metadata": {},
   "outputs": [
    {
     "name": "stdout",
     "output_type": "stream",
     "text": [
      "https://understat.com/team/Manchester_City/2018\n",
      "Manchester City done!\n",
      "https://understat.com/team/Liverpool/2018\n",
      "Liverpool done!\n",
      "https://understat.com/team/Chelsea/2018\n",
      "Chelsea done!\n",
      "https://understat.com/team/Tottenham/2018\n",
      "Tottenham done!\n",
      "https://understat.com/team/Arsenal/2018\n",
      "Arsenal done!\n",
      "https://understat.com/team/Manchester_United/2018\n",
      "Manchester United done!\n",
      "https://understat.com/team/Wolverhampton_Wanderers/2018\n",
      "Wolverhampton Wanderers done!\n",
      "https://understat.com/team/Everton/2018\n",
      "Everton done!\n",
      "https://understat.com/team/Leicester/2018\n",
      "Leicester done!\n",
      "https://understat.com/team/West_Ham/2018\n",
      "West Ham done!\n",
      "https://understat.com/team/Watford/2018\n",
      "Watford done!\n",
      "https://understat.com/team/Crystal_Palace/2018\n",
      "Crystal Palace done!\n",
      "https://understat.com/team/Newcastle_United/2018\n",
      "Newcastle United done!\n",
      "https://understat.com/team/Bournemouth/2018\n",
      "Bournemouth done!\n",
      "https://understat.com/team/Burnley/2018\n",
      "Burnley done!\n",
      "https://understat.com/team/Southampton/2018\n",
      "Southampton done!\n",
      "https://understat.com/team/Brighton/2018\n",
      "Brighton done!\n",
      "https://understat.com/team/Cardiff/2018\n",
      "Cardiff done!\n",
      "https://understat.com/team/Fulham/2018\n",
      "Fulham done!\n",
      "https://understat.com/team/Huddersfield/2018\n",
      "Huddersfield done!\n"
     ]
    }
   ],
   "source": [
    "for team in teams:\n",
    "    # This url is the link to the website with the data\n",
    "    url = f'https://understat.com/team/{team.replace(\" \",\"_\")}/2018'\n",
    "    print(url)\n",
    "    # We need to open the web page (this is called a 'get' request), then we need to render it, and then we can read the html\n",
    "    session = HTMLSession()\n",
    "    request = session.get(url)\n",
    "    request.html.render()\n",
    "    # inside the html there are some tables of data. \n",
    "    # We want the second table. (in most programming languages, the first item in a list is known as the 0th item, so the second item is the 1st)\n",
    "    # in the code \"request.html.find('table')\" will find us all of the tables of data in this website\n",
    "    tables = request.html.find('table')\n",
    "    # the [1] is how we get the second element of the list \n",
    "    player_table = tables[1]\n",
    "    # Now we convert the html table to a pandas DataTable, which we then save as csv\n",
    "    stats = pd.read_html(player_table.html, header=0)[0]\n",
    "    stats.to_csv(f'{team.replace(\" \",\"_\")}.csv')\n",
    "    print(f'{team} done!')"
   ]
  }
 ],
 "metadata": {
  "kernelspec": {
   "display_name": "Python 3",
   "language": "python",
   "name": "python3"
  },
  "language_info": {
   "codemirror_mode": {
    "name": "ipython",
    "version": 3
   },
   "file_extension": ".py",
   "mimetype": "text/x-python",
   "name": "python",
   "nbconvert_exporter": "python",
   "pygments_lexer": "ipython3",
   "version": "3.6.4"
  }
 },
 "nbformat": 4,
 "nbformat_minor": 2
}
