{
 "cells": [
  {
   "cell_type": "code",
   "execution_count": 1,
   "metadata": {},
   "outputs": [],
   "source": [
    "# These are the python libraries we will use. \n",
    "# pandas is our python version of excel\n",
    "# requests_html is our python version of a web browser (like chrome, or edge, or firefox) that we're going to \n",
    "# use to open the websites we want to get data from\n",
    "import pandas as pd\n",
    "import numpy as np\n",
    "from requests_html import HTMLSession\n",
    "import requests\n",
    "from bs4 import BeautifulSoup\n",
    "from datetime import datetime\n",
    "from dateutil import parser"
   ]
  },
  {
   "cell_type": "code",
   "execution_count": 2,
   "metadata": {},
   "outputs": [],
   "source": [
    "url = f'https://www.transfermarkt.co.uk/premier-league/startseite/wettbewerb/GB1'"
   ]
  },
  {
   "cell_type": "code",
   "execution_count": 3,
   "metadata": {},
   "outputs": [],
   "source": [
    "session = HTMLSession()\n",
    "request = session.get(url)"
   ]
  },
  {
   "cell_type": "code",
   "execution_count": 4,
   "metadata": {},
   "outputs": [],
   "source": [
    "soup = BeautifulSoup(request.text, 'html.parser')"
   ]
  },
  {
   "cell_type": "code",
   "execution_count": 5,
   "metadata": {},
   "outputs": [],
   "source": [
    "table = soup.find('table', {'class':'items'})"
   ]
  },
  {
   "cell_type": "code",
   "execution_count": 23,
   "metadata": {},
   "outputs": [],
   "source": [
    "row = table.find('tbody').findAll('tr')[1]"
   ]
  },
  {
   "cell_type": "code",
   "execution_count": 36,
   "metadata": {},
   "outputs": [
    {
     "data": {
      "text/plain": [
       "[<td class=\"zentriert no-border-rechts\"><a class=\"vereinprofil_tooltip\" href=\"/manchester-city/startseite/verein/281/saison_id/2019\"><img alt=\"Manchester City\" class=\"tiny_wappen\" src=\"https://tmssl.akamaized.net//images/wappen/tiny/281.png?lm=1467356331\" title=\" \"/></a></td>,\n",
       " <td class=\"hauptlink no-border-links hide-for-small hide-for-pad\"><a class=\"vereinprofil_tooltip\" href=\"/manchester-city/startseite/verein/281/saison_id/2019\" id=\"281\">Manchester City</a> <a href=\"#\"><img alt=\"English Champion 18/19\" class=\"tabelle-erfolg\" src=\"https://tmssl.akamaized.net//images/erfolge/mini/12.png?lm=1520606997\" title=\"English Champion 18/19\"/></a><a href=\"#\"><img alt=\"FA Cup Winner 18/19\" class=\"tabelle-erfolg\" src=\"https://tmssl.akamaized.net//images/erfolge/mini/29.png?lm=1520606999\" title=\"FA Cup Winner 18/19\"/></a></td>,\n",
       " <td class=\"hauptlink no-border-links show-for-small show-for-pad\"><a class=\"vereinprofil_tooltip\" href=\"/manchester-city/startseite/verein/281/saison_id/2019\" id=\"281\">Man City</a></td>,\n",
       " <td class=\"zentriert\"><a href=\"/manchester-city/kader/verein/281/saison_id/2019\" title=\"Manchester City\">27</a></td>,\n",
       " <td class=\"zentriert hide-for-small hide-for-pad\">26,6</td>,\n",
       " <td class=\"zentriert hide-for-pad hide-for-small\">22</td>,\n",
       " <td class=\"rechts hide-for-small hide-for-pad\"><a href=\"/manchester-city/kader/verein/281/saison_id/2019\" title=\"Manchester City\">£1.16bn</a></td>,\n",
       " <td class=\"rechts hide-for-small hide-for-pad\">£42.87m</td>,\n",
       " <td class=\"rechts show-for-small show-for-pad nowrap\"><a href=\"/manchester-city/kader/verein/281/saison_id/2019\" title=\"Manchester City\">£1.16bn</a></td>,\n",
       " <td class=\"rechts show-for-small show-for-pad nowrap\">£42.87m</td>]"
      ]
     },
     "execution_count": 36,
     "metadata": {},
     "output_type": "execute_result"
    }
   ],
   "source": [
    "row.findAll('td')"
   ]
  },
  {
   "cell_type": "code",
   "execution_count": 39,
   "metadata": {},
   "outputs": [
    {
     "data": {
      "text/plain": [
       "'Manchester City '"
      ]
     },
     "execution_count": 39,
     "metadata": {},
     "output_type": "execute_result"
    }
   ],
   "source": [
    "row.findAll('td')[1].text"
   ]
  },
  {
   "cell_type": "code",
   "execution_count": 42,
   "metadata": {},
   "outputs": [],
   "source": [
    "values = {}\n",
    "for row in table.find('tbody').findAll('tr'):\n",
    "    cells = row.findAll('td')\n",
    "    values[cells[1].text] =  cells[-2].text"
   ]
  },
  {
   "cell_type": "code",
   "execution_count": 45,
   "metadata": {},
   "outputs": [],
   "source": [
    "pd.Series(values).to_csv('transfermarkt_values.csv')"
   ]
  }
 ],
 "metadata": {
  "kernelspec": {
   "display_name": "Python 3",
   "language": "python",
   "name": "python3"
  },
  "language_info": {
   "codemirror_mode": {
    "name": "ipython",
    "version": 3
   },
   "file_extension": ".py",
   "mimetype": "text/x-python",
   "name": "python",
   "nbconvert_exporter": "python",
   "pygments_lexer": "ipython3",
   "version": "3.6.4"
  }
 },
 "nbformat": 4,
 "nbformat_minor": 2
}
