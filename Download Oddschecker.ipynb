{
 "cells": [
  {
   "cell_type": "code",
   "execution_count": 1,
   "metadata": {},
   "outputs": [],
   "source": [
    "# These are the python libraries we will use. \n",
    "# pandas is our python version of excel\n",
    "# requests_html is our python version of a web browser (like chrome, or edge, or firefox) that we're going to \n",
    "# use to open the websites we want to get data from\n",
    "import pandas as pd\n",
    "import numpy as np\n",
    "from requests_html import HTMLSession\n",
    "import requests\n",
    "from bs4 import BeautifulSoup\n",
    "from datetime import datetime\n",
    "from dateutil import parser"
   ]
  },
  {
   "cell_type": "code",
   "execution_count": 2,
   "metadata": {},
   "outputs": [],
   "source": [
    "def parse_odds(odds):\n",
    "    if type(odds)==str:        \n",
    "        if '/' in odds:\n",
    "            a, b = odds.split('/')\n",
    "            a = int(a)\n",
    "            b = int(b)\n",
    "        else:\n",
    "            a = int(odds)\n",
    "            b = 1\n",
    "        return b / (a + b)\n",
    "    return np.nan"
   ]
  },
  {
   "cell_type": "code",
   "execution_count": 3,
   "metadata": {},
   "outputs": [],
   "source": [
    "url = f'https://www.oddschecker.com/football/english/premier-league'"
   ]
  },
  {
   "cell_type": "code",
   "execution_count": 4,
   "metadata": {},
   "outputs": [],
   "source": [
    "session = HTMLSession()\n",
    "request = session.get(url)"
   ]
  },
  {
   "cell_type": "code",
   "execution_count": 5,
   "metadata": {},
   "outputs": [],
   "source": [
    "soup = BeautifulSoup(request.text, 'html.parser')"
   ]
  },
  {
   "cell_type": "code",
   "execution_count": 6,
   "metadata": {},
   "outputs": [],
   "source": [
    "table = soup.find('div', {'id':'fixtures'})"
   ]
  },
  {
   "cell_type": "code",
   "execution_count": 7,
   "metadata": {},
   "outputs": [],
   "source": [
    "rows = table.findAll('tr')"
   ]
  },
  {
   "cell_type": "code",
   "execution_count": 8,
   "metadata": {},
   "outputs": [],
   "source": [
    "processed_rows = []\n",
    "for row in rows:\n",
    "    if 'hda-header' in row['class']:\n",
    "        date = parser.parse(row.find('td').text)\n",
    "    else:\n",
    "        home, draw, away = [parse_odds(x.text) for x in row.findAll('p', {'class':'participant-name'})]\n",
    "        \n",
    "        team_names = []\n",
    "        for raw_team_name in row.findAll('p', {'class':'fixtures-bet-name beta-footnote'}):\n",
    "            if raw_team_name.find('span') is None:\n",
    "                team_name = raw_team_name.text\n",
    "            else:\n",
    "                team_name = raw_team_name.text[:-5]\n",
    "            team_names.append(team_name)\n",
    "        \n",
    "        home_team, away_team  = team_names\n",
    "        prow = pd.Series([date, home_team, away_team, home, draw, away], \n",
    "                         index=['Date', 'Home Team', 'Away Team', 'Home', 'Draw', 'Away'])\n",
    "        processed_rows.append(prow)\n",
    "\n",
    "stats = pd.DataFrame(processed_rows)    \n",
    "stats.to_csv(f'game_odds_{datetime.today().strftime(\"%Y%m%d\")}.csv')"
   ]
  }
 ],
 "metadata": {
  "kernelspec": {
   "display_name": "Python 3",
   "language": "python",
   "name": "python3"
  },
  "language_info": {
   "codemirror_mode": {
    "name": "ipython",
    "version": 3
   },
   "file_extension": ".py",
   "mimetype": "text/x-python",
   "name": "python",
   "nbconvert_exporter": "python",
   "pygments_lexer": "ipython3",
   "version": "3.6.4"
  }
 },
 "nbformat": 4,
 "nbformat_minor": 2
}
